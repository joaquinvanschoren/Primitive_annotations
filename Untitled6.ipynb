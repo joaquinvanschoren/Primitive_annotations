{
 "cells": [
  {
   "cell_type": "code",
   "execution_count": 1,
   "metadata": {},
   "outputs": [],
   "source": [
    "from completeRun import featureClf,cv_feature\n",
    "from preamble import *\n",
    "from LocalDatasets import saveDict,readDict,ScoresFromPredictions,read_features, read_duration,checkForExist,read_did_pred,ScoresAveraging,doneFracs,ScoresFromBias\n",
    "import seaborn as sns\n",
    "from copy import copy\n",
    "plt.rcParams['savefig.dpi'] = 200\n",
    "from preamble import *\n",
    "clfNames = [ 'RandomForestClassifier','KNeighborsClassifier', '1NeighborsClassifier', 'SGDClassifier', 'AdaBoost', 'SVC-rbf','GaussianNB', 'BernoulliNB','GradientBoost']\n"
   ]
  },
  {
   "cell_type": "code",
   "execution_count": 6,
   "metadata": {},
   "outputs": [],
   "source": [
    "from LocalDatasets import doneExists\n",
    "func = 'BiasVarianceSplitedV2'\n",
    "amountList = [0.9,0.75,0.5,0.25]\n",
    "amountList2 = []\n",
    "for amount in amountList:\n",
    "    amountList2.append(str(amount))\n",
    "didList2,count = doneExists(func,'AdaBoost',amountList2)\n",
    "func3 = 'BiasVariance'\n",
    "amountList3 = ['40']\n",
    "didList3 = doneFracs(func3,'1NeighborsClassifier',amountList3)\n",
    "didList = []\n",
    "for did in didList2:\n",
    "    if did in didList2:\n",
    "        didList.append(did)"
   ]
  },
  {
   "cell_type": "code",
   "execution_count": 7,
   "metadata": {},
   "outputs": [
    {
     "name": "stdout",
     "output_type": "stream",
     "text": [
      "1025 ['0.25', '0.5', '0.75', '0.9']\n",
      "40706 ['0', '0.1', '0.25', '0.5', '0.75', '0.9']\n",
      "1036 ['0.25', '0.5', '0.75', '0.9']\n",
      "1038 ['0.1', '0.25', '0.5', '0.75', '0.9']\n",
      "1043 ['0.1', '0.25', '0.5', '0.75', '0.9']\n",
      "1049 ['0.1', '0.25', '0.5', '0.75', '0.9']\n",
      "1050 ['0.1', '0.25', '0.5', '0.75', '0.9']\n",
      "37 ['0.1', '0.25', '0.5', '0.75', '0.9']\n",
      "40 ['0.1', '0.25', '0.5', '0.75', '0.9']\n",
      "1067 ['0.1', '0.25', '0.5', '0.75', '0.9']\n",
      "1068 ['0.25', '0.5', '0.75', '0.9']\n",
      "953 ['0.25', '0.5', '0.75', '0.9']\n",
      "956 ['0.25', '0.5', '0.75', '0.9']\n",
      "40509 ['0.25', '0.5', '0.75', '0.9']\n",
      "959 ['0.25', '0.5', '0.75', '0.9']\n",
      "40645 ['0.25', '0.5', '0.75', '0.9']\n",
      "40646 ['0.25', '0.5', '0.75', '0.9']\n",
      "40647 ['0.25', '0.5', '0.75', '0.9']\n",
      "40648 ['0.25', '0.5', '0.75', '0.9']\n",
      "40649 ['0.25', '0.5', '0.75', '0.9']\n",
      "40650 ['0.25', '0.5', '0.75', '0.9']\n",
      "40651 ['0.25', '0.5', '0.75', '0.9']\n",
      "40652 ['0.25', '0.5', '0.75', '0.9']\n",
      "40653 ['0.25', '0.5', '0.75', '0.9']\n",
      "40654 ['0.25', '0.5', '0.75', '0.9']\n",
      "40655 ['0.25', '0.5', '0.75', '0.9']\n",
      "40656 ['0.25', '0.5', '0.75', '0.9']\n",
      "991 ['0.25', '0.5', '0.75', '0.9']\n",
      "40680 ['0.25', '0.5', '0.75', '0.9']\n",
      "40702 ['0.25', '0.5', '0.75', '0.9']\n",
      "40690 ['0.25', '0.5', '0.75', '0.9']\n",
      "40693 ['0.25', '0.5', '0.75', '0.9']\n",
      "1014 ['0.25', '0.5', '0.75', '0.9']\n",
      "40695 ['0.25', '0.5', '0.75', '0.9']\n",
      "40696 ['0.25', '0.5', '0.75', '0.9']\n",
      "40697 ['0.25', '0.5', '0.75', '0.9']\n",
      "1022 ['0.25', '0.5', '0.75', '0.9']\n"
     ]
    }
   ],
   "source": [
    "for i,item in enumerate(didList2):\n",
    "    print(didList2[i],count[i])"
   ]
  },
  {
   "cell_type": "code",
   "execution_count": 1,
   "metadata": {},
   "outputs": [],
   "source": [
    "from LocalDatasets import read_did,read_did_cat\n",
    "X,y = read_did(10)\n",
    "cat = read_did_cat(10)\n",
    "amount = 15"
   ]
  },
  {
   "cell_type": "code",
   "execution_count": 2,
   "metadata": {},
   "outputs": [],
   "source": [
    "def cat_needed2(X,cat,amount):\n",
    "    count = 0\n",
    "    for i in cat:\n",
    "        if i:\n",
    "            count = count + 1\n",
    "            \n",
    "    return round(amount*(count/len(cat)))"
   ]
  },
  {
   "cell_type": "code",
   "execution_count": 8,
   "metadata": {},
   "outputs": [
    {
     "data": {
      "text/plain": [
       "4"
      ]
     },
     "execution_count": 8,
     "metadata": {},
     "output_type": "execute_result"
    }
   ],
   "source": [
    "cat_needed2(X,cat,5)"
   ]
  },
  {
   "cell_type": "code",
   "execution_count": 5,
   "metadata": {},
   "outputs": [
    {
     "data": {
      "text/plain": [
       "18"
      ]
     },
     "execution_count": 5,
     "metadata": {},
     "output_type": "execute_result"
    }
   ],
   "source": [
    "len(cat)"
   ]
  },
  {
   "cell_type": "code",
   "execution_count": null,
   "metadata": {},
   "outputs": [],
   "source": []
  }
 ],
 "metadata": {
  "kernelspec": {
   "display_name": "Python 3",
   "language": "python",
   "name": "python3"
  },
  "language_info": {
   "codemirror_mode": {
    "name": "ipython",
    "version": 3
   },
   "file_extension": ".py",
   "mimetype": "text/x-python",
   "name": "python",
   "nbconvert_exporter": "python",
   "pygments_lexer": "ipython3",
   "version": "3.6.1"
  }
 },
 "nbformat": 4,
 "nbformat_minor": 2
}
