{
 "cells": [
  {
   "cell_type": "code",
   "execution_count": 4,
   "metadata": {},
   "outputs": [
    {
     "name": "stdout",
     "output_type": "stream",
     "text": [
      "1014 0.9 4.034767161527725\n",
      "1014 0.5 4.677856553736834\n",
      "1014 0.1 5.352106145084603\n",
      "1014 0.0 5.518758816811841\n",
      "1022 0.9 6.723262668219171\n",
      "1022 0.5 33.421484191316424\n",
      "1022 0.1 70.87826315337706\n",
      "1022 0.0 81.77241849347274\n",
      "1025 0.9 3.832936343551495\n",
      "1025 0.5 4.130924990856641\n",
      "1025 0.1 4.598719369742582\n",
      "1025 0.0 4.4892243631369695\n",
      "1038 0.9 56.28157538234174\n",
      "1038 0.5 318.9304642774506\n",
      "1038 0.1 716.1350124461662\n",
      "1038 0.0 733.3070275121847\n",
      "1043 0.9 6.091584749621234\n",
      "1043 0.5 20.130778976988495\n",
      "1043 0.1 47.59748128410092\n",
      "1043 0.0 58.272242623733746\n",
      "1049 0.9 4.044225408092643\n",
      "1049 0.5 8.39964975331577\n",
      "1049 0.1 12.417526422445462\n",
      "1049 0.0 13.296837796786349\n",
      "1050 0.9 4.463399034908889\n",
      "1050 0.5 8.549510363719037\n",
      "1050 0.1 12.710992838322909\n",
      "1050 0.0 13.883386700702431\n",
      "1063 0.9 3.3691519813105515\n",
      "1063 0.5 4.334062469677519\n",
      "1063 0.1 5.593284201765982\n",
      "1063 0.0 5.7247228068995355\n",
      "1067 0.9 4.184172003403546\n",
      "1067 0.5 8.242342435642058\n",
      "1067 0.1 12.178510583906245\n",
      "1067 0.0 13.194062693596607\n",
      "1068 0.9 3.597936586130345\n",
      "1068 0.5 6.045411245960167\n",
      "1068 0.1 8.025641528023243\n",
      "1068 0.0 8.632435977817295\n",
      "1176 0.9 38.76272606492148\n",
      "1176 0.5 230.03204887779248\n",
      "1176 0.1 478.9028009471772\n",
      "1176 0.0 541.8353378751576\n",
      "11 0.9 5.45004926218644\n",
      "11 0.5 7.01018411742325\n",
      "11 0.1 7.551237805742858\n",
      "11 0.0 7.5470425893995525\n",
      "12 0.9 29.10427489419817\n",
      "12 0.5 151.4624100591891\n",
      "12 0.1 305.9213862267402\n",
      "12 0.0 330.33809161273985\n",
      "1462 0.9 2.9762720466942483\n",
      "1462 0.5 4.847524201915803\n",
      "1462 0.1 5.718318722616459\n",
      "1462 0.0 6.1801815796734445\n",
      "1463 0.9 2.471263257872124\n",
      "1463 0.5 2.8390689260095314\n",
      "1463 0.1 2.9463849205458246\n",
      "1463 0.0 2.909587093306982\n",
      "1464 0.9 2.9257834367090254\n",
      "1464 0.5 3.877085712473672\n",
      "1464 0.1 4.79333019846672\n",
      "1464 0.0 4.804507023593942\n",
      "1466 0.9 11.202202616866998\n",
      "1466 0.5 23.10382472364654\n",
      "1466 0.1 37.604906065966134\n",
      "1466 0.0 41.666885920717505\n",
      "1467 0.9 2.670625368533365\n",
      "1467 0.5 4.3707278114898145\n",
      "1467 0.1 6.589727154660977\n",
      "1467 0.0 6.662669245467441\n",
      "1468 0.9 20.350479000127052\n",
      "1468 0.5 142.2428541839272\n",
      "1468 0.1 406.22512446166184\n",
      "1468 0.0 473.8926116982766\n",
      "1475 0.9 27.771588127066025\n",
      "1475 0.5 106.20786310336825\n",
      "1475 0.1 213.5589270919636\n",
      "1475 0.0 246.27952092523356\n",
      "1479 0.9 6.285935272471761\n",
      "1479 0.5 16.37469957529993\n",
      "1479 0.1 28.683972808765247\n",
      "1479 0.0 31.881001963023664\n",
      "1485 0.9 23.17242091926255\n",
      "1485 0.5 93.87173358113705\n",
      "1485 0.1 185.87531908461915\n",
      "1485 0.0 214.37135665076858\n",
      "1487 0.9 6.325133698321224\n",
      "1487 0.5 16.638690316248358\n",
      "1487 0.1 30.18869656732113\n",
      "1487 0.0 33.78918256491761\n",
      "1489 0.9 4.538218313590733\n",
      "1489 0.5 10.141381543100579\n",
      "1489 0.1 16.70788129678931\n",
      "1489 0.0 19.08379656582838\n",
      "1491 0.9 60.25286523059913\n",
      "1491 0.5 270.3341832926544\n",
      "1491 0.1 465.94104165267163\n",
      "1491 0.0 602.6996816617784\n",
      "1492 0.9 69.81370029930622\n",
      "1492 0.5 349.0266906819834\n",
      "1492 0.1 728.3437465012648\n",
      "1492 0.0 893.862931230733\n",
      "1493 0.9 76.59158661561378\n",
      "1493 0.5 287.1973930226832\n",
      "1493 0.1 522.7682022847202\n",
      "1493 0.0 583.6494118393457\n",
      "1494 0.9 3.24023666375615\n",
      "1494 0.5 6.123563652716257\n",
      "1494 0.1 8.413718865926057\n",
      "1494 0.0 8.722668816288206\n",
      "1495 0.9 2.2592464564822876\n",
      "1495 0.5 2.6672208662675985\n",
      "1495 0.1 2.9760154728046473\n",
      "1495 0.0 2.9773552550068416\n",
      "1497 0.9 13.258890985020116\n",
      "1497 0.5 40.9591385088479\n",
      "1497 0.1 67.76726509027685\n",
      "1497 0.0 73.39115482508168\n",
      "14 0.9 23.340787038074268\n",
      "14 0.5 102.49389400792643\n",
      "14 0.1 182.35204643334328\n",
      "14 0.0 202.576201978698\n",
      "1501 0.9 20.409308127513214\n",
      "1501 0.5 101.41490470379176\n",
      "1501 0.1 179.82408407786352\n",
      "1501 0.0 220.09115743747134\n",
      "1504 0.9 4.358189278756981\n",
      "1504 0.5 9.605617941886521\n",
      "1504 0.1 15.013133784155798\n",
      "1504 0.0 16.816126555304436\n",
      "1510 0.9 3.188829519245701\n",
      "1510 0.5 6.069218037424434\n",
      "1510 0.1 8.012147607425504\n",
      "1510 0.0 8.55311639311185\n",
      "1515 0.9 26.287504571679165\n",
      "1515 0.5 170.61806457451712\n",
      "1515 0.1 384.8727398172832\n",
      "1515 0.0 438.45027831269545\n"
     ]
    },
    {
     "name": "stderr",
     "output_type": "stream",
     "text": [
      "C:\\ProgramData\\Anaconda3\\lib\\site-packages\\sklearn\\utils\\validation.py:395: DeprecationWarning: Passing 1d arrays as data is deprecated in 0.17 and will raise ValueError in 0.19. Reshape your data either using X.reshape(-1, 1) if your data has a single feature or X.reshape(1, -1) if it contains a single sample.\n",
      "  DeprecationWarning)\n"
     ]
    },
    {
     "ename": "ValueError",
     "evalue": "Found array with 0 feature(s) (shape=(1, 0)) while a minimum of 1 is required.",
     "output_type": "error",
     "traceback": [
      "\u001b[1;31m---------------------------------------------------------------------------\u001b[0m",
      "\u001b[1;31mValueError\u001b[0m                                Traceback (most recent call last)",
      "\u001b[1;32m<ipython-input-4-926030250c5e>\u001b[0m in \u001b[0;36m<module>\u001b[1;34m()\u001b[0m\n\u001b[0;32m      9\u001b[0m     \u001b[1;32mfor\u001b[0m \u001b[0mamount\u001b[0m \u001b[1;32min\u001b[0m \u001b[0mamountList\u001b[0m\u001b[1;33m:\u001b[0m\u001b[1;33m\u001b[0m\u001b[0m\n\u001b[0;32m     10\u001b[0m         \u001b[1;32mwith\u001b[0m \u001b[0mstopwatch\u001b[0m\u001b[1;33m(\u001b[0m\u001b[1;33m)\u001b[0m \u001b[1;32mas\u001b[0m \u001b[0msws\u001b[0m\u001b[1;33m:\u001b[0m\u001b[1;33m\u001b[0m\u001b[0m\n\u001b[1;32m---> 11\u001b[1;33m             \u001b[0mfeatureRemovedClf\u001b[0m\u001b[1;33m(\u001b[0m\u001b[0mdid\u001b[0m\u001b[1;33m,\u001b[0m\u001b[0mcv\u001b[0m\u001b[1;33m,\u001b[0m\u001b[0mamount\u001b[0m\u001b[1;33m)\u001b[0m\u001b[1;33m\u001b[0m\u001b[0m\n\u001b[0m\u001b[0;32m     12\u001b[0m         \u001b[0mprint\u001b[0m\u001b[1;33m(\u001b[0m\u001b[0mdid\u001b[0m\u001b[1;33m,\u001b[0m\u001b[0mamount\u001b[0m\u001b[1;33m,\u001b[0m\u001b[0msws\u001b[0m\u001b[1;33m.\u001b[0m\u001b[0mduration\u001b[0m\u001b[1;33m)\u001b[0m\u001b[1;33m\u001b[0m\u001b[0m\n",
      "\u001b[1;32mC:\\Users\\S127788\\Documents\\GitHub\\Primitive_annotations\\completeRun.py\u001b[0m in \u001b[0;36mfeatureRemovedClf\u001b[1;34m(did, cv, amount)\u001b[0m\n\u001b[0;32m   1048\u001b[0m             \u001b[0mtime\u001b[0m\u001b[1;33m[\u001b[0m\u001b[0mj\u001b[0m\u001b[1;33m]\u001b[0m\u001b[1;33m[\u001b[0m\u001b[1;36m0\u001b[0m\u001b[1;33m]\u001b[0m \u001b[1;33m=\u001b[0m \u001b[0mtime\u001b[0m\u001b[1;33m[\u001b[0m\u001b[0mj\u001b[0m\u001b[1;33m]\u001b[0m\u001b[1;33m[\u001b[0m\u001b[1;36m0\u001b[0m\u001b[1;33m]\u001b[0m \u001b[1;33m+\u001b[0m \u001b[0msw\u001b[0m\u001b[1;33m.\u001b[0m\u001b[0mduration\u001b[0m\u001b[1;33m\u001b[0m\u001b[0m\n\u001b[0;32m   1049\u001b[0m             \u001b[1;32mwith\u001b[0m \u001b[0mstopwatch\u001b[0m\u001b[1;33m(\u001b[0m\u001b[1;33m)\u001b[0m \u001b[1;32mas\u001b[0m \u001b[0msw\u001b[0m\u001b[1;33m:\u001b[0m\u001b[1;33m\u001b[0m\u001b[0m\n\u001b[1;32m-> 1050\u001b[1;33m                 \u001b[0mpredict\u001b[0m\u001b[1;33m[\u001b[0m\u001b[0mj\u001b[0m\u001b[1;33m]\u001b[0m\u001b[1;33m[\u001b[0m\u001b[1;36m0\u001b[0m\u001b[1;33m]\u001b[0m \u001b[1;33m=\u001b[0m \u001b[0mcv_clf\u001b[0m\u001b[1;33m.\u001b[0m\u001b[0mpredict\u001b[0m\u001b[1;33m(\u001b[0m\u001b[0mX_test\u001b[0m\u001b[1;33m)\u001b[0m\u001b[1;33m\u001b[0m\u001b[0m\n\u001b[0m\u001b[0;32m   1051\u001b[0m             \u001b[0mtime\u001b[0m\u001b[1;33m[\u001b[0m\u001b[0mj\u001b[0m\u001b[1;33m]\u001b[0m\u001b[1;33m[\u001b[0m\u001b[1;36m1\u001b[0m\u001b[1;33m]\u001b[0m \u001b[1;33m=\u001b[0m \u001b[0mtime\u001b[0m\u001b[1;33m[\u001b[0m\u001b[0mj\u001b[0m\u001b[1;33m]\u001b[0m\u001b[1;33m[\u001b[0m\u001b[1;36m1\u001b[0m\u001b[1;33m]\u001b[0m \u001b[1;33m+\u001b[0m \u001b[0msw\u001b[0m\u001b[1;33m.\u001b[0m\u001b[0mduration\u001b[0m\u001b[1;33m\u001b[0m\u001b[0m\n\u001b[0;32m   1052\u001b[0m             \u001b[1;32mfor\u001b[0m \u001b[0mk\u001b[0m \u001b[1;32min\u001b[0m \u001b[0mrange\u001b[0m\u001b[1;33m(\u001b[0m\u001b[1;36m0\u001b[0m\u001b[1;33m,\u001b[0m\u001b[0msc\u001b[0m\u001b[1;33m)\u001b[0m\u001b[1;33m:\u001b[0m\u001b[1;33m\u001b[0m\u001b[0m\n",
      "\u001b[1;32mC:\\ProgramData\\Anaconda3\\lib\\site-packages\\sklearn\\ensemble\\forest.py\u001b[0m in \u001b[0;36mpredict\u001b[1;34m(self, X)\u001b[0m\n\u001b[0;32m    532\u001b[0m             \u001b[0mThe\u001b[0m \u001b[0mpredicted\u001b[0m \u001b[0mclasses\u001b[0m\u001b[1;33m.\u001b[0m\u001b[1;33m\u001b[0m\u001b[0m\n\u001b[0;32m    533\u001b[0m         \"\"\"\n\u001b[1;32m--> 534\u001b[1;33m         \u001b[0mproba\u001b[0m \u001b[1;33m=\u001b[0m \u001b[0mself\u001b[0m\u001b[1;33m.\u001b[0m\u001b[0mpredict_proba\u001b[0m\u001b[1;33m(\u001b[0m\u001b[0mX\u001b[0m\u001b[1;33m)\u001b[0m\u001b[1;33m\u001b[0m\u001b[0m\n\u001b[0m\u001b[0;32m    535\u001b[0m \u001b[1;33m\u001b[0m\u001b[0m\n\u001b[0;32m    536\u001b[0m         \u001b[1;32mif\u001b[0m \u001b[0mself\u001b[0m\u001b[1;33m.\u001b[0m\u001b[0mn_outputs_\u001b[0m \u001b[1;33m==\u001b[0m \u001b[1;36m1\u001b[0m\u001b[1;33m:\u001b[0m\u001b[1;33m\u001b[0m\u001b[0m\n",
      "\u001b[1;32mC:\\ProgramData\\Anaconda3\\lib\\site-packages\\sklearn\\ensemble\\forest.py\u001b[0m in \u001b[0;36mpredict_proba\u001b[1;34m(self, X)\u001b[0m\n\u001b[0;32m    571\u001b[0m         \"\"\"\n\u001b[0;32m    572\u001b[0m         \u001b[1;31m# Check data\u001b[0m\u001b[1;33m\u001b[0m\u001b[1;33m\u001b[0m\u001b[0m\n\u001b[1;32m--> 573\u001b[1;33m         \u001b[0mX\u001b[0m \u001b[1;33m=\u001b[0m \u001b[0mself\u001b[0m\u001b[1;33m.\u001b[0m\u001b[0m_validate_X_predict\u001b[0m\u001b[1;33m(\u001b[0m\u001b[0mX\u001b[0m\u001b[1;33m)\u001b[0m\u001b[1;33m\u001b[0m\u001b[0m\n\u001b[0m\u001b[0;32m    574\u001b[0m \u001b[1;33m\u001b[0m\u001b[0m\n\u001b[0;32m    575\u001b[0m         \u001b[1;31m# Assign chunk of trees to jobs\u001b[0m\u001b[1;33m\u001b[0m\u001b[1;33m\u001b[0m\u001b[0m\n",
      "\u001b[1;32mC:\\ProgramData\\Anaconda3\\lib\\site-packages\\sklearn\\ensemble\\forest.py\u001b[0m in \u001b[0;36m_validate_X_predict\u001b[1;34m(self, X)\u001b[0m\n\u001b[0;32m    353\u001b[0m                                  \"call `fit` before exploiting the model.\")\n\u001b[0;32m    354\u001b[0m \u001b[1;33m\u001b[0m\u001b[0m\n\u001b[1;32m--> 355\u001b[1;33m         \u001b[1;32mreturn\u001b[0m \u001b[0mself\u001b[0m\u001b[1;33m.\u001b[0m\u001b[0mestimators_\u001b[0m\u001b[1;33m[\u001b[0m\u001b[1;36m0\u001b[0m\u001b[1;33m]\u001b[0m\u001b[1;33m.\u001b[0m\u001b[0m_validate_X_predict\u001b[0m\u001b[1;33m(\u001b[0m\u001b[0mX\u001b[0m\u001b[1;33m,\u001b[0m \u001b[0mcheck_input\u001b[0m\u001b[1;33m=\u001b[0m\u001b[1;32mTrue\u001b[0m\u001b[1;33m)\u001b[0m\u001b[1;33m\u001b[0m\u001b[0m\n\u001b[0m\u001b[0;32m    356\u001b[0m \u001b[1;33m\u001b[0m\u001b[0m\n\u001b[0;32m    357\u001b[0m     \u001b[1;33m@\u001b[0m\u001b[0mproperty\u001b[0m\u001b[1;33m\u001b[0m\u001b[0m\n",
      "\u001b[1;32mC:\\ProgramData\\Anaconda3\\lib\\site-packages\\sklearn\\tree\\tree.py\u001b[0m in \u001b[0;36m_validate_X_predict\u001b[1;34m(self, X, check_input)\u001b[0m\n\u001b[0;32m    363\u001b[0m \u001b[1;33m\u001b[0m\u001b[0m\n\u001b[0;32m    364\u001b[0m         \u001b[1;32mif\u001b[0m \u001b[0mcheck_input\u001b[0m\u001b[1;33m:\u001b[0m\u001b[1;33m\u001b[0m\u001b[0m\n\u001b[1;32m--> 365\u001b[1;33m             \u001b[0mX\u001b[0m \u001b[1;33m=\u001b[0m \u001b[0mcheck_array\u001b[0m\u001b[1;33m(\u001b[0m\u001b[0mX\u001b[0m\u001b[1;33m,\u001b[0m \u001b[0mdtype\u001b[0m\u001b[1;33m=\u001b[0m\u001b[0mDTYPE\u001b[0m\u001b[1;33m,\u001b[0m \u001b[0maccept_sparse\u001b[0m\u001b[1;33m=\u001b[0m\u001b[1;34m\"csr\"\u001b[0m\u001b[1;33m)\u001b[0m\u001b[1;33m\u001b[0m\u001b[0m\n\u001b[0m\u001b[0;32m    366\u001b[0m             if issparse(X) and (X.indices.dtype != np.intc or\n\u001b[0;32m    367\u001b[0m                                 X.indptr.dtype != np.intc):\n",
      "\u001b[1;32mC:\\ProgramData\\Anaconda3\\lib\\site-packages\\sklearn\\utils\\validation.py\u001b[0m in \u001b[0;36mcheck_array\u001b[1;34m(array, accept_sparse, dtype, order, copy, force_all_finite, ensure_2d, allow_nd, ensure_min_samples, ensure_min_features, warn_on_dtype, estimator)\u001b[0m\n\u001b[0;32m    422\u001b[0m                              \u001b[1;34m\" a minimum of %d is required%s.\"\u001b[0m\u001b[1;33m\u001b[0m\u001b[0m\n\u001b[0;32m    423\u001b[0m                              % (n_features, shape_repr, ensure_min_features,\n\u001b[1;32m--> 424\u001b[1;33m                                 context))\n\u001b[0m\u001b[0;32m    425\u001b[0m \u001b[1;33m\u001b[0m\u001b[0m\n\u001b[0;32m    426\u001b[0m     \u001b[1;32mif\u001b[0m \u001b[0mwarn_on_dtype\u001b[0m \u001b[1;32mand\u001b[0m \u001b[0mdtype_orig\u001b[0m \u001b[1;32mis\u001b[0m \u001b[1;32mnot\u001b[0m \u001b[1;32mNone\u001b[0m \u001b[1;32mand\u001b[0m \u001b[0marray\u001b[0m\u001b[1;33m.\u001b[0m\u001b[0mdtype\u001b[0m \u001b[1;33m!=\u001b[0m \u001b[0mdtype_orig\u001b[0m\u001b[1;33m:\u001b[0m\u001b[1;33m\u001b[0m\u001b[0m\n",
      "\u001b[1;31mValueError\u001b[0m: Found array with 0 feature(s) (shape=(1, 0)) while a minimum of 1 is required."
     ]
    }
   ],
   "source": [
    "\n",
    "from completeRun import featureRemovedClf\n",
    "from LocalDatasets import readDict\n",
    "from utils import stopwatch\n",
    "cv = 10\n",
    "amountList = [0.9,0.5,0.1,0.0]\n",
    "# 0.5,0.6,0.7,0.75,0.8,0.9,\n",
    "for did in didList:\n",
    "    for amount in amountList:\n",
    "        with stopwatch() as sws:\n",
    "            featureRemovedClf(did,cv,amount)\n",
    "        print(did,amount,sws.duration)"
   ]
  },
  {
   "cell_type": "code",
   "execution_count": 1,
   "metadata": {},
   "outputs": [],
   "source": [
    "from preamble import *\n",
    "list_of_files = []\n",
    "for (dirpath, dirnames, filenames) in os.walk('C:\\\\Users\\\\S127788\\\\Documents\\\\GitHub\\\\assignment2\\did'):\n",
    "    for filename in filenames:\n",
    "        if filename.endswith('cat.csv'): \n",
    "            list_of_files.append(int(filename[:-7]))"
   ]
  },
  {
   "cell_type": "code",
   "execution_count": 2,
   "metadata": {},
   "outputs": [],
   "source": [
    "goodFiles = []\n",
    "from LocalDatasets import readDict\n",
    "for did in list_of_files:\n",
    "    if readDict(did)['NumberOfFeatures'] == readDict(did)['NumberOfSymbolicFeatures']:\n",
    "        goodFiles.append(did)\n",
    "    if readDict(did)['NumberOfSymbolicFeatures'] == 1:\n",
    "        goodFiles.append(did)\n",
    "    "
   ]
  },
  {
   "cell_type": "code",
   "execution_count": 3,
   "metadata": {},
   "outputs": [],
   "source": [
    "didList = []\n",
    "for did in goodFiles:\n",
    "    if readDict(did)['NumberOfInstances'] < 10000:\n",
    "        didList.append(did)"
   ]
  },
  {
   "cell_type": "code",
   "execution_count": 11,
   "metadata": {},
   "outputs": [
    {
     "data": {
      "text/plain": [
       "1014"
      ]
     },
     "execution_count": 11,
     "metadata": {},
     "output_type": "execute_result"
    }
   ],
   "source": [
    "didList[0]"
   ]
  },
  {
   "cell_type": "code",
   "execution_count": 13,
   "metadata": {},
   "outputs": [
    {
     "data": {
      "text/plain": [
       "0.8055207026348808"
      ]
     },
     "execution_count": 13,
     "metadata": {},
     "output_type": "execute_result"
    }
   ],
   "source": [
    "readDict(1014)['MajorityClassSize']/readDict(1014)['NumberOfInstances']"
   ]
  },
  {
   "cell_type": "code",
   "execution_count": null,
   "metadata": {},
   "outputs": [],
   "source": []
  }
 ],
 "metadata": {
  "kernelspec": {
   "display_name": "Python 3",
   "language": "python",
   "name": "python3"
  },
  "language_info": {
   "codemirror_mode": {
    "name": "ipython",
    "version": 3
   },
   "file_extension": ".py",
   "mimetype": "text/x-python",
   "name": "python",
   "nbconvert_exporter": "python",
   "pygments_lexer": "ipython3",
   "version": "3.6.1"
  }
 },
 "nbformat": 4,
 "nbformat_minor": 2
}
