{
 "cells": [
  {
   "cell_type": "code",
   "execution_count": null,
   "metadata": {},
   "outputs": [],
   "source": [
    "from LocalDatasets import readDict,checkForExist"
   ]
  },
  {
   "cell_type": "code",
   "execution_count": null,
   "metadata": {},
   "outputs": [],
   "source": [
    "from completeRun import featureClfAdj\n",
    "#Duration Cat\n",
    "Cat = [20, 21, 26, 333, 334, 335, 40668, 4135, 4534, 469, 46, 50]\n",
    "listTuples = []\n",
    "func = 'FeatureRandom'\n",
    "amountList = [1.25,1.5,1.75,2] \n",
    "for did in didList:\n",
    "    for amount in amountList:\n",
    "        if not checkForExist(func,clfName,did,round(amount*(readDict(did)['NumberOfFeatures']-1))):\n",
    "            listTuples.append((did,amount))\n",
    "typ = 2\n",
    "cv = 10\n",
    "for did,amount in listTuples:\n",
    "    featureClfAdj(did,cv,amount,typ)\n",
    "featureClfAdj(40668,cv,2,3)"
   ]
  },
  {
   "cell_type": "code",
   "execution_count": null,
   "metadata": {},
   "outputs": [],
   "source": [
    "#Duration\n",
    "from LocalDatasets import readDict,checkForExist\n",
    "from completeRun import featureClfAdj\n",
    "NonCat = [1038,1043,1046,1049,1050,1063,1067,1068,1176,11,12,1459,1462,1464,1466,1467,1468,1475,1476,1478,1479,1485,1487]\n",
    "second = [1489, 1491, 1492, 1493, 1494, 1497, 14, 1501, 1504, 1510, 1515, 1570, 16, 18, 22, 28, 300, 30, 32, 36, 375, 37, 39,40499,40509,40, 4134, 41, 44, 4538, 458, 53, 54]\n",
    "for i in second:\n",
    "    NonCat.append(i)\n",
    "didList = NonCat\n",
    "listTuples = []\n",
    "func = 'FeatureRandom'\n",
    "amountList = [1.25,1.5,1.75,2] \n",
    "for did in didList:\n",
    "    for amount in amountList:\n",
    "        if not checkForExist(func,clfName,did,round(amount*(readDict(did)['NumberOfFeatures']-1))):\n",
    "            listTuples.append((did,amount))\n",
    "typ = 2\n",
    "cv = 10\n",
    "for did,amount in listTuples:\n",
    "    featureClfAdj(did,cv,amount,typ)"
   ]
  },
  {
   "cell_type": "code",
   "execution_count": null,
   "metadata": {},
   "outputs": [],
   "source": [
    "#Duration\n",
    "from LocalDatasets import readDict,checkForExist\n",
    "from completeRun import featureClfAdj\n",
    "NonCat = [1038,1043,1046,1049,1050,1063,1067,1068,1176,11,12,1459,1462,1464,1466,1467,1468,1475,1476,1478,1479,1485,1487]\n",
    "second = [1489, 1491, 1492, 1493, 1494, 1497, 14, 1501, 1504, 1510, 1515, 1570, 16, 18, 22, 28, 300, 30, 32, 36, 375, 37, 39,40499,40509,40, 4134, 41, 44, 4538, 458, 53, 54]\n",
    "for i in second:\n",
    "    NonCat.append(i)\n",
    "didList = NonCat\n",
    "listTuples = []\n",
    "func = 'FeatureManipulation'\n",
    "amountList = [1.25,1.5,1.75,2] \n",
    "for did in didList:\n",
    "    for amount in amountList:\n",
    "        if not checkForExist(func,clfName,did,round(amount*(readDict(did)['NumberOfFeatures']-1))):\n",
    "            listTuples.append((did,amount))\n",
    "typ = 3\n",
    "cv = 10\n",
    "for did,amount in listTuples:\n",
    "    featureClfAdj(did,cv,amount,typ)"
   ]
  },
  {
   "cell_type": "code",
   "execution_count": null,
   "metadata": {},
   "outputs": [],
   "source": [
    "func = 'cvScoreFeatures5Duration'\n",
    "amountList = [0.25,0.5,0.75,1.0]\n",
    "from LocalDatasets import readDict,checkForExist\n",
    "from completeRun import featureClf\n",
    "NonCat = [1038,1043,1046,1049,1050,1063,1067,1068,1176,11,12,1459,1462,1464,1466,1467,1468,1475,1476,1478,1479,1485,1487]\n",
    "second = [1489, 1491, 1492, 1493, 1494, 1497, 14, 1501, 1504, 1510, 1515, 1570, 16, 18, 22, 28, 300, 30, 32, 36, 375, 37, 39,40499,40509,40, 4134, 41, 44, 4538, 458, 53, 54]\n",
    "for i in second:\n",
    "    NonCat.append(i)\n",
    "didList = NonCat\n",
    "listTuples = []\n",
    "for did in didList:\n",
    "    for amount in amountList:\n",
    "        if not checkForExist(func,clfName,did,round(amount*(readDict(did)['NumberOfFeatures']-1))):\n",
    "            listTuples.append((did,amount))\n",
    "typ = 3\n",
    "cv = 10\n",
    "for did,amount in listTuples:\n",
    "    featureClf(did,cv,amount,typ)"
   ]
  },
  {
   "cell_type": "code",
   "execution_count": null,
   "metadata": {},
   "outputs": [],
   "source": [
    "func = 'cvScoreFeatures4Duration'\n",
    "amountList = [0.25,0.5,0.75,1.0]\n",
    "from LocalDatasets import readDict,checkForExist\n",
    "from completeRun import featureClf\n",
    "NonCat = [1038,1043,1046,1049,1050,1063,1067,1068,1176,11,12,1459,1462,1464,1466,1467,1468,1475,1476,1478,1479,1485,1487]\n",
    "second = [1489, 1491, 1492, 1493, 1494, 1497, 14, 1501, 1504, 1510, 1515, 1570, 16, 18, 22, 28, 300, 30, 32, 36, 375, 37, 39,40499,40509,40, 4134, 41, 44, 4538, 458, 53, 54]\n",
    "for i in second:\n",
    "    NonCat.append(i)\n",
    "didList = NonCat\n",
    "listTuples = []\n",
    "for did in didList:\n",
    "    for amount in amountList:\n",
    "        if not checkForExist(func,clfName,did,round(amount*(readDict(did)['NumberOfFeatures']-1))):\n",
    "            listTuples.append((did,amount))\n",
    "typ = 2\n",
    "cv = 10\n",
    "for did,amount in listTuples:\n",
    "    featureClf(did,cv,amount,typ)"
   ]
  },
  {
   "cell_type": "code",
   "execution_count": null,
   "metadata": {},
   "outputs": [],
   "source": [
    "func = 'cvScoreFeatures4Duration'\n",
    "amountList = [0.25,0.5,0.75,1.0]\n",
    "from LocalDatasets import readDict,checkForExist\n",
    "from completeRun import featureClf\n",
    "Cat = [20, 21, 26, 333, 334, 335,40668, 4135, 4534, 469, 46, 50]\n",
    "\n",
    "didList = Cat\n",
    "listTuples = []\n",
    "for did in didList:\n",
    "    for amount in amountList:\n",
    "        if not checkForExist(func,clfName,did,round(amount*(readDict(did)['NumberOfFeatures']-1))):\n",
    "            listTuples.append((did,amount))\n",
    "typ = 2\n",
    "cv = 10\n",
    "for did,amount in listTuples:\n",
    "    featureClf(did,cv,amount,typ)"
   ]
  },
  {
   "cell_type": "code",
   "execution_count": null,
   "metadata": {},
   "outputs": [],
   "source": [
    "func = 'cvScoreFeatures5Duration'\n",
    "amountList = [0.25,0.5,0.75,1.0]\n",
    "from LocalDatasets import readDict,checkForExist\n",
    "from completeRun import featureClf\n",
    "Cat = [20, 21, 26, 333, 334, 335,40668, 4135, 4534, 469, 46, 50]\n",
    "\n",
    "didList = Cat\n",
    "listTuples = []\n",
    "for did in didList:\n",
    "    for amount in amountList:\n",
    "        if not checkForExist(func,clfName,did,round(amount*(readDict(did)['NumberOfFeatures']-1))):\n",
    "            listTuples.append((did,amount))\n",
    "typ = 3\n",
    "cv = 10\n",
    "for did,amount in listTuples:\n",
    "    featureClf(did,cv,amount,typ)"
   ]
  },
  {
   "cell_type": "code",
   "execution_count": null,
   "metadata": {},
   "outputs": [],
   "source": []
  },
  {
   "cell_type": "code",
   "execution_count": 5,
   "metadata": {},
   "outputs": [],
   "source": [
    "# amountList = [0.1,0.2,0.5,0.8,0.9]\n",
    "# func = 'FeatureManipulation'\n",
    "# from LocalDatasets import readDict,checkForExist\n",
    "# from completeRun import featureClfAdj\n",
    "# newCat = []\n",
    "# for did in list_of_files:\n",
    "#     if readDict(did)['NumberOfFeatures'] == readDict(did)['NumberOfSymbolicFeatures'] and readDict(did)['NumberOfInstances'] > 100 and readDict(did)['NumberOfInstances'] < 100000:\n",
    "#         if readDict(did)['NumberOfFeatures'] > 10:\n",
    "#             newCat.append(did)\n",
    "# didList = newCat\n",
    "# for did in didList:\n",
    "#     for amount in amountList:\n",
    "#         if not checkForExist(func,clfName,did,round(amount*(readDict(did)['NumberOfFeatures']-1))):\n",
    "#             listTuples.append((did,amount))\n",
    "\n",
    "# typ = 5\n",
    "# cv = 10\n",
    "# for did,amount in listTuples:\n",
    "#     featureClfAdj(did,cv,amount,typ)"
   ]
  },
  {
   "cell_type": "code",
   "execution_count": 4,
   "metadata": {},
   "outputs": [
    {
     "data": {
      "text/plain": [
       "2"
      ]
     },
     "execution_count": 4,
     "metadata": {},
     "output_type": "execute_result"
    }
   ],
   "source": []
  },
  {
   "cell_type": "code",
   "execution_count": null,
   "metadata": {},
   "outputs": [],
   "source": []
  }
 ],
 "metadata": {
  "kernelspec": {
   "display_name": "Python 3",
   "language": "python",
   "name": "python3"
  },
  "language_info": {
   "codemirror_mode": {
    "name": "ipython",
    "version": 3
   },
   "file_extension": ".py",
   "mimetype": "text/x-python",
   "name": "python",
   "nbconvert_exporter": "python",
   "pygments_lexer": "ipython3",
   "version": "3.6.1"
  }
 },
 "nbformat": 4,
 "nbformat_minor": 2
}
