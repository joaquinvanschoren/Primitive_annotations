{
 "cells": [
  {
   "cell_type": "code",
   "execution_count": 1,
   "metadata": {},
   "outputs": [
    {
     "ename": "StopIteration",
     "evalue": "",
     "output_type": "error",
     "traceback": [
      "\u001b[1;31m---------------------------------------------------------------------------\u001b[0m",
      "\u001b[1;31mStopIteration\u001b[0m                             Traceback (most recent call last)",
      "\u001b[1;32m<ipython-input-1-43ae9aa50777>\u001b[0m in \u001b[0;36m<module>\u001b[1;34m()\u001b[0m\n\u001b[0;32m      2\u001b[0m \u001b[0mfunc\u001b[0m \u001b[1;33m=\u001b[0m \u001b[1;34m'cvScoreNoise3'\u001b[0m\u001b[1;33m\u001b[0m\u001b[0m\n\u001b[0;32m      3\u001b[0m \u001b[0mclfName\u001b[0m \u001b[1;33m=\u001b[0m \u001b[1;34m'SVC-rbf'\u001b[0m\u001b[1;33m\u001b[0m\u001b[0m\n\u001b[1;32m----> 4\u001b[1;33m \u001b[0mdoneOldNoiseEasy\u001b[0m\u001b[1;33m(\u001b[0m\u001b[0mfunc\u001b[0m\u001b[1;33m,\u001b[0m\u001b[0mclfName\u001b[0m\u001b[1;33m)\u001b[0m\u001b[1;33m\u001b[0m\u001b[0m\n\u001b[0m",
      "\u001b[1;32mC:\\Users\\S127788\\Documents\\GitHub\\Primitive_annotations\\LocalDatasets.py\u001b[0m in \u001b[0;36mdoneOldNoiseEasy\u001b[1;34m(func, clfName)\u001b[0m\n\u001b[0;32m    434\u001b[0m     \u001b[1;32mfor\u001b[0m \u001b[0mamount\u001b[0m \u001b[1;32min\u001b[0m \u001b[0mamountList\u001b[0m\u001b[1;33m:\u001b[0m\u001b[1;33m\u001b[0m\u001b[0m\n\u001b[0;32m    435\u001b[0m         \u001b[0mpath2\u001b[0m \u001b[1;33m=\u001b[0m \u001b[0mdropbox\u001b[0m \u001b[1;33m+\u001b[0m \u001b[0mfunc\u001b[0m \u001b[1;33m+\u001b[0m \u001b[1;34m'\\\\'\u001b[0m \u001b[1;33m+\u001b[0m \u001b[0mclfName\u001b[0m \u001b[1;33m+\u001b[0m \u001b[1;34m'\\\\'\u001b[0m \u001b[1;33m+\u001b[0m \u001b[0mstr\u001b[0m\u001b[1;33m(\u001b[0m\u001b[0mamount\u001b[0m\u001b[1;33m)\u001b[0m\u001b[1;33m\u001b[0m\u001b[0m\n\u001b[1;32m--> 436\u001b[1;33m         \u001b[0mdictAmount\u001b[0m\u001b[1;33m[\u001b[0m\u001b[0mamount\u001b[0m\u001b[1;33m]\u001b[0m \u001b[1;33m=\u001b[0m \u001b[0mnext\u001b[0m\u001b[1;33m(\u001b[0m\u001b[0mos\u001b[0m\u001b[1;33m.\u001b[0m\u001b[0mwalk\u001b[0m\u001b[1;33m(\u001b[0m\u001b[0mpath2\u001b[0m\u001b[1;33m)\u001b[0m\u001b[1;33m)\u001b[0m\u001b[1;33m[\u001b[0m\u001b[1;36m1\u001b[0m\u001b[1;33m]\u001b[0m\u001b[1;33m\u001b[0m\u001b[0m\n\u001b[0m\u001b[0;32m    437\u001b[0m     \u001b[1;32mreturn\u001b[0m \u001b[0mdictAmount\u001b[0m\u001b[1;33m\u001b[0m\u001b[0m\n\u001b[0;32m    438\u001b[0m \u001b[1;33m\u001b[0m\u001b[0m\n",
      "\u001b[1;31mStopIteration\u001b[0m: "
     ]
    }
   ],
   "source": [
    "from LocalDatasets import doneOldNoiseEasy\n",
    "func = 'cvScoreNoise3'\n",
    "clfName = 'SVC-rbf'\n",
    "doneOldNoiseEasy(func,clfName)"
   ]
  },
  {
   "cell_type": "code",
   "execution_count": 5,
   "metadata": {},
   "outputs": [],
   "source": [
    "from preamble import *\n",
    "dropbox = 'D:\\\\stack\\\\afstudeer\\\\results\\\\'  \n",
    "dictAmount = {}\n",
    "pathAmount = dropbox + func + '\\\\' + clfName \n",
    "amountList = next(os.walk(pathAmount))[1]  \n",
    "for amount in amountList:\n",
    "    path2 = dropbox + func + '\\\\' + clfName + '\\\\' + str(amount)  \n",
    "    for (dirpath, dirnames, filenames) in os.walk(path):\n",
    "        if dirname in didList:            \n",
    "            amountAdd.append(amount)\n",
    "        else:\n",
    "            if amount in amountAdd\n",
    "    dictAmount[amount] = next(os.walk(path2))[1]    "
   ]
  },
  {
   "cell_type": "code",
   "execution_count": 6,
   "metadata": {},
   "outputs": [
    {
     "data": {
      "text/plain": [
       "{'-0.1': ['26'],\n",
       " '-0.2': ['10', '12', '18', '3'],\n",
       " '-0.4': ['10', '12', '18', '3'],\n",
       " '-0.5': ['26'],\n",
       " '-0.6': ['10', '12', '18', '3'],\n",
       " '-0.8': ['10', '12', '18', '3'],\n",
       " '-1': ['10', '12', '18', '3', '312'],\n",
       " '-1.2': ['10', '12', '18', '3'],\n",
       " '-1.4': ['10', '12', '18', '3'],\n",
       " '-1.6': ['10', '12', '18', '3'],\n",
       " '-10': ['10', '12', '18', '3', '312'],\n",
       " '-2': ['10', '12', '18', '3', '312'],\n",
       " '-2.5': ['10', '12', '18', '3'],\n",
       " '-20': ['10', '12', '18', '3'],\n",
       " '-3': ['10', '12', '18', '3', '312'],\n",
       " '-4': ['10', '12', '18', '3', '312'],\n",
       " '-5': ['10', '12', '18', '3', '312'],\n",
       " '-6': ['10', '12', '18', '3', '312'],\n",
       " '-7': ['312'],\n",
       " '-8': ['10', '12', '18', '3', '312'],\n",
       " '-9': ['312'],\n",
       " '0.1': ['26', '6', '60'],\n",
       " '0.2': ['10', '12', '18', '3'],\n",
       " '0.4': ['10', '12', '18', '3'],\n",
       " '0.5': ['26', '6', '60'],\n",
       " '0.6': ['10', '12', '18', '3'],\n",
       " '0.75': ['6', '60'],\n",
       " '0.8': ['10', '12', '18', '3'],\n",
       " '1': ['10', '12', '18', '3', '312', '6', '60'],\n",
       " '1.2': ['10', '12', '18', '3'],\n",
       " '1.3': ['10', '12', '18', '3'],\n",
       " '1.4': ['10', '12', '18', '3'],\n",
       " '1.5': ['10', '12', '18', '3'],\n",
       " '1.6': ['10', '12', '18', '3'],\n",
       " '1.8': ['10', '12', '18', '3'],\n",
       " '1.9': ['10', '12', '18', '3'],\n",
       " '10': ['10', '12', '18', '3', '312', '60'],\n",
       " '100': ['11',\n",
       "  '12',\n",
       "  '14',\n",
       "  '151',\n",
       "  '16',\n",
       "  '18',\n",
       "  '182',\n",
       "  '20',\n",
       "  '21',\n",
       "  '22',\n",
       "  '3',\n",
       "  '60'],\n",
       " '1000': ['3', '60'],\n",
       " '10000': ['60'],\n",
       " '1000000': ['3'],\n",
       " '2': ['10', '12', '18', '3', '312', '6', '60'],\n",
       " '2.1': ['10', '12', '18', '3'],\n",
       " '2.2': ['10', '12', '18', '3'],\n",
       " '2.3': ['10', '12', '18', '3'],\n",
       " '2.4': ['10', '12', '18', '3'],\n",
       " '20': ['10', '12', '18', '3'],\n",
       " '3': ['10', '12', '18', '3', '312', '6', '60'],\n",
       " '30': ['10', '12', '18', '3'],\n",
       " '4': ['10', '12', '18', '3', '312'],\n",
       " '40': ['10', '12', '18', '3'],\n",
       " '5': ['10', '12', '18', '3', '312', '60'],\n",
       " '50': ['10', '12', '18', '3'],\n",
       " '6': ['312'],\n",
       " '7': ['312'],\n",
       " '8': ['312'],\n",
       " '9': ['312']}"
      ]
     },
     "execution_count": 6,
     "metadata": {},
     "output_type": "execute_result"
    }
   ],
   "source": [
    "didList = [10,12,18,3]\n",
    "amountList = [-20,-10,-8,-6,-5,-4,-3,-2.5,-2,-1.6,-1.4,-1.2,-1,-0.8,-0.6,-0.4,-0.2,0.2,0.4,0.6,0.8,1,1.2,1.3,1.4,1.5,1.6,1.8,1.9,2,2.1,2.2,2.3,2.4,3,4,5,10,20,30,40,50]\n"
   ]
  },
  {
   "cell_type": "code",
   "execution_count": 2,
   "metadata": {},
   "outputs": [
    {
     "name": "stdout",
     "output_type": "stream",
     "text": [
      "20 0.25\n",
      "20 0.5\n",
      "20 0.75\n",
      "20 1.0\n",
      "21 0.25\n",
      "21 0.5\n",
      "21 0.75\n",
      "21 1.0\n",
      "26 0.25\n",
      "26 0.5\n",
      "26 0.75\n",
      "26 1.0\n",
      "333 0.25\n",
      "333 0.5\n",
      "333 0.75\n",
      "333 1.0\n",
      "334 0.25\n",
      "334 0.5\n",
      "334 0.75\n",
      "334 1.0\n",
      "335 0.25\n",
      "335 0.5\n",
      "335 0.75\n",
      "335 1.0\n"
     ]
    },
    {
     "ename": "KeyboardInterrupt",
     "evalue": "",
     "output_type": "error",
     "traceback": [
      "\u001b[1;31m---------------------------------------------------------------------------\u001b[0m",
      "\u001b[1;31mKeyboardInterrupt\u001b[0m                         Traceback (most recent call last)",
      "\u001b[1;32m<ipython-input-2-b075d47505cf>\u001b[0m in \u001b[0;36m<module>\u001b[1;34m()\u001b[0m\n\u001b[0;32m     14\u001b[0m \u001b[0mcv\u001b[0m \u001b[1;33m=\u001b[0m \u001b[1;36m10\u001b[0m\u001b[1;33m\u001b[0m\u001b[0m\n\u001b[0;32m     15\u001b[0m \u001b[1;32mfor\u001b[0m \u001b[0mdid\u001b[0m\u001b[1;33m,\u001b[0m\u001b[0mamount\u001b[0m \u001b[1;32min\u001b[0m \u001b[0mlistTuples\u001b[0m\u001b[1;33m:\u001b[0m\u001b[1;33m\u001b[0m\u001b[0m\n\u001b[1;32m---> 16\u001b[1;33m     \u001b[0mfeatureClf\u001b[0m\u001b[1;33m(\u001b[0m\u001b[0mdid\u001b[0m\u001b[1;33m,\u001b[0m\u001b[0mcv\u001b[0m\u001b[1;33m,\u001b[0m\u001b[0mround\u001b[0m\u001b[1;33m(\u001b[0m\u001b[0mamount\u001b[0m\u001b[1;33m*\u001b[0m\u001b[1;33m(\u001b[0m\u001b[0mreadDict\u001b[0m\u001b[1;33m(\u001b[0m\u001b[0mdid\u001b[0m\u001b[1;33m)\u001b[0m\u001b[1;33m[\u001b[0m\u001b[1;34m'NumberOfFeatures'\u001b[0m\u001b[1;33m]\u001b[0m\u001b[1;33m-\u001b[0m\u001b[1;36m1\u001b[0m\u001b[1;33m)\u001b[0m\u001b[1;33m)\u001b[0m\u001b[1;33m,\u001b[0m\u001b[0mtyp\u001b[0m\u001b[1;33m)\u001b[0m\u001b[1;33m\u001b[0m\u001b[0m\n\u001b[0m\u001b[0;32m     17\u001b[0m     \u001b[0mprint\u001b[0m\u001b[1;33m(\u001b[0m\u001b[0mdid\u001b[0m\u001b[1;33m,\u001b[0m\u001b[0mamount\u001b[0m\u001b[1;33m)\u001b[0m\u001b[1;33m\u001b[0m\u001b[0m\n",
      "\u001b[1;32mC:\\Users\\S127788\\Documents\\GitHub\\Primitive_annotations\\completeRun.py\u001b[0m in \u001b[0;36mfeatureClf\u001b[1;34m(did, cv, amount, typ)\u001b[0m\n\u001b[0;32m    109\u001b[0m             \u001b[0mcv_clf2\u001b[0m \u001b[1;33m=\u001b[0m \u001b[0mclfs\u001b[0m\u001b[1;33m(\u001b[0m\u001b[0mclfName\u001b[0m\u001b[1;33m)\u001b[0m\u001b[1;33m\u001b[0m\u001b[0m\n\u001b[0;32m    110\u001b[0m             \u001b[1;32mwith\u001b[0m \u001b[0mstopwatch\u001b[0m\u001b[1;33m(\u001b[0m\u001b[1;33m)\u001b[0m \u001b[1;32mas\u001b[0m \u001b[0msw\u001b[0m\u001b[1;33m:\u001b[0m\u001b[1;33m\u001b[0m\u001b[0m\n\u001b[1;32m--> 111\u001b[1;33m                 \u001b[0m_\u001b[0m \u001b[1;33m=\u001b[0m \u001b[0mcv_clf\u001b[0m\u001b[1;33m.\u001b[0m\u001b[0mfit\u001b[0m\u001b[1;33m(\u001b[0m\u001b[0mX_train\u001b[0m\u001b[1;33m,\u001b[0m\u001b[0my_train\u001b[0m\u001b[1;33m)\u001b[0m\u001b[1;33m\u001b[0m\u001b[0m\n\u001b[0m\u001b[0;32m    112\u001b[0m             \u001b[0mtime\u001b[0m\u001b[1;33m[\u001b[0m\u001b[0mj\u001b[0m\u001b[1;33m]\u001b[0m\u001b[1;33m[\u001b[0m\u001b[1;36m0\u001b[0m\u001b[1;33m]\u001b[0m \u001b[1;33m=\u001b[0m \u001b[0mtime\u001b[0m\u001b[1;33m[\u001b[0m\u001b[0mj\u001b[0m\u001b[1;33m]\u001b[0m\u001b[1;33m[\u001b[0m\u001b[1;36m0\u001b[0m\u001b[1;33m]\u001b[0m \u001b[1;33m+\u001b[0m \u001b[0msw\u001b[0m\u001b[1;33m.\u001b[0m\u001b[0mduration\u001b[0m\u001b[1;33m\u001b[0m\u001b[0m\n\u001b[0;32m    113\u001b[0m             \u001b[1;32mwith\u001b[0m \u001b[0mstopwatch\u001b[0m\u001b[1;33m(\u001b[0m\u001b[1;33m)\u001b[0m \u001b[1;32mas\u001b[0m \u001b[0msw\u001b[0m\u001b[1;33m:\u001b[0m\u001b[1;33m\u001b[0m\u001b[0m\n",
      "\u001b[1;32mC:\\ProgramData\\Anaconda3\\lib\\site-packages\\sklearn\\svm\\base.py\u001b[0m in \u001b[0;36mfit\u001b[1;34m(self, X, y, sample_weight)\u001b[0m\n\u001b[0;32m    187\u001b[0m \u001b[1;33m\u001b[0m\u001b[0m\n\u001b[0;32m    188\u001b[0m         \u001b[0mseed\u001b[0m \u001b[1;33m=\u001b[0m \u001b[0mrnd\u001b[0m\u001b[1;33m.\u001b[0m\u001b[0mrandint\u001b[0m\u001b[1;33m(\u001b[0m\u001b[0mnp\u001b[0m\u001b[1;33m.\u001b[0m\u001b[0miinfo\u001b[0m\u001b[1;33m(\u001b[0m\u001b[1;34m'i'\u001b[0m\u001b[1;33m)\u001b[0m\u001b[1;33m.\u001b[0m\u001b[0mmax\u001b[0m\u001b[1;33m)\u001b[0m\u001b[1;33m\u001b[0m\u001b[0m\n\u001b[1;32m--> 189\u001b[1;33m         \u001b[0mfit\u001b[0m\u001b[1;33m(\u001b[0m\u001b[0mX\u001b[0m\u001b[1;33m,\u001b[0m \u001b[0my\u001b[0m\u001b[1;33m,\u001b[0m \u001b[0msample_weight\u001b[0m\u001b[1;33m,\u001b[0m \u001b[0msolver_type\u001b[0m\u001b[1;33m,\u001b[0m \u001b[0mkernel\u001b[0m\u001b[1;33m,\u001b[0m \u001b[0mrandom_seed\u001b[0m\u001b[1;33m=\u001b[0m\u001b[0mseed\u001b[0m\u001b[1;33m)\u001b[0m\u001b[1;33m\u001b[0m\u001b[0m\n\u001b[0m\u001b[0;32m    190\u001b[0m         \u001b[1;31m# see comment on the other call to np.iinfo in this file\u001b[0m\u001b[1;33m\u001b[0m\u001b[1;33m\u001b[0m\u001b[0m\n\u001b[0;32m    191\u001b[0m \u001b[1;33m\u001b[0m\u001b[0m\n",
      "\u001b[1;32mC:\\ProgramData\\Anaconda3\\lib\\site-packages\\sklearn\\svm\\base.py\u001b[0m in \u001b[0;36m_dense_fit\u001b[1;34m(self, X, y, sample_weight, solver_type, kernel, random_seed)\u001b[0m\n\u001b[0;32m    254\u001b[0m                 \u001b[0mcache_size\u001b[0m\u001b[1;33m=\u001b[0m\u001b[0mself\u001b[0m\u001b[1;33m.\u001b[0m\u001b[0mcache_size\u001b[0m\u001b[1;33m,\u001b[0m \u001b[0mcoef0\u001b[0m\u001b[1;33m=\u001b[0m\u001b[0mself\u001b[0m\u001b[1;33m.\u001b[0m\u001b[0mcoef0\u001b[0m\u001b[1;33m,\u001b[0m\u001b[1;33m\u001b[0m\u001b[0m\n\u001b[0;32m    255\u001b[0m                 \u001b[0mgamma\u001b[0m\u001b[1;33m=\u001b[0m\u001b[0mself\u001b[0m\u001b[1;33m.\u001b[0m\u001b[0m_gamma\u001b[0m\u001b[1;33m,\u001b[0m \u001b[0mepsilon\u001b[0m\u001b[1;33m=\u001b[0m\u001b[0mself\u001b[0m\u001b[1;33m.\u001b[0m\u001b[0mepsilon\u001b[0m\u001b[1;33m,\u001b[0m\u001b[1;33m\u001b[0m\u001b[0m\n\u001b[1;32m--> 256\u001b[1;33m                 max_iter=self.max_iter, random_seed=random_seed)\n\u001b[0m\u001b[0;32m    257\u001b[0m \u001b[1;33m\u001b[0m\u001b[0m\n\u001b[0;32m    258\u001b[0m         \u001b[0mself\u001b[0m\u001b[1;33m.\u001b[0m\u001b[0m_warn_from_fit_status\u001b[0m\u001b[1;33m(\u001b[0m\u001b[1;33m)\u001b[0m\u001b[1;33m\u001b[0m\u001b[0m\n",
      "\u001b[1;31mKeyboardInterrupt\u001b[0m: "
     ]
    }
   ],
   "source": [
    "func = 'cvScoreFeatures6'\n",
    "amountList = [0.25,0.5,0.75,1.0]\n",
    "from LocalDatasets import readDict,checkForExist\n",
    "from completeRun import featureClf\n",
    "clfName = 'SVC-rbf'\n",
    "Cat = [20, 21, 26, 333, 334, 335,40668, 4135, 4534, 469, 46, 50]\n",
    "didList = Cat\n",
    "listTuples = []\n",
    "for did in didList:\n",
    "    for amount in amountList:\n",
    "        if not checkForExist(func,clfName,did,round(amount*(readDict(did)['NumberOfFeatures']-1))):\n",
    "            listTuples.append((did,amount))\n",
    "typ = 4\n",
    "cv = 10\n",
    "for did,amount in listTuples:\n",
    "    featureClf(did,cv,round(amount*(readDict(did)['NumberOfFeatures']-1)),typ)\n",
    "    print(did,amount)"
   ]
  },
  {
   "cell_type": "code",
   "execution_count": null,
   "metadata": {},
   "outputs": [],
   "source": [
    "1+1"
   ]
  },
  {
   "cell_type": "code",
   "execution_count": null,
   "metadata": {},
   "outputs": [],
   "source": [
    "func = 'cvScoreFeatures6'\n",
    "amountList = [0.25,0.5,0.75,1.0]\n",
    "from LocalDatasets import readDict,checkForExist\n",
    "from completeRun import featureClf\n",
    "clfName = 'SVC-rbf'\n",
    "Cat = [20, 21, 26, 333, 334, 335,40668, 4135, 4534, 469, 46, 50]\n",
    "didList = Cat\n",
    "listTuples = []\n",
    "for did in didList:\n",
    "    for amount in amountList:\n",
    "        if not checkForExist(func,clfName,did,round(amount*(readDict(did)['NumberOfFeatures']-1))):\n",
    "            listTuples.append((did,amount))\n",
    "typ = 4\n",
    "cv = 10\n",
    "for did,amount in listTuples:\n",
    "    featureClf(did,cv,round(amount*(readDict(did)['NumberOfFeatures']-1)),typ)\n",
    "    print(did,amount)"
   ]
  },
  {
   "cell_type": "code",
   "execution_count": null,
   "metadata": {},
   "outputs": [],
   "source": [
    "from LocalDatasets import read_did,read_did_cat\n",
    "from Noise2 import noise_set2\n",
    "import numpy as np\n"
   ]
  }
 ],
 "metadata": {
  "kernelspec": {
   "display_name": "Python 3",
   "language": "python",
   "name": "python3"
  },
  "language_info": {
   "codemirror_mode": {
    "name": "ipython",
    "version": 3
   },
   "file_extension": ".py",
   "mimetype": "text/x-python",
   "name": "python",
   "nbconvert_exporter": "python",
   "pygments_lexer": "ipython3",
   "version": "3.6.6"
  }
 },
 "nbformat": 4,
 "nbformat_minor": 2
}
